{
 "cells": [
  {
   "cell_type": "code",
   "execution_count": 3,
   "metadata": {},
   "outputs": [
    {
     "name": "stderr",
     "output_type": "stream",
     "text": [
      "C:\\Users\\tuannghia\\AppData\\Local\\Temp\\ipykernel_15608\\1642132852.py:10: DeprecationWarning: executable_path has been deprecated, please pass in a Service object\n",
      "  driver = webdriver.Chrome(executable_path=\"./Driver/chromedriver.exe\")\n",
      "C:\\Users\\tuannghia\\AppData\\Local\\Temp\\ipykernel_15608\\1642132852.py:18: DeprecationWarning: find_elements_by_css_selector is deprecated. Please use find_elements(by=By.CSS_SELECTOR, value=css_selector) instead\n",
      "  lis = driver.find_elements_by_css_selector('.job-list ul li')\n",
      "c:\\Users\\tuannghia\\AppData\\Local\\Programs\\Python\\Python310\\lib\\site-packages\\selenium\\webdriver\\remote\\webelement.py:484: UserWarning: find_element_by_css_selector is deprecated. Please use find_element(by=By.CSS_SELECTOR, value=css_selector) instead\n",
      "  warnings.warn(\"find_element_by_css_selector is deprecated. Please use find_element(by=By.CSS_SELECTOR, value=css_selector) instead\")\n"
     ]
    }
   ],
   "source": [
    "import csv\n",
    "import imp\n",
    "import random\n",
    "import time\n",
    "import pandas as pd\n",
    "from icecream import ic\n",
    "from selenium import webdriver\n",
    "\n",
    "#  Instantiate browser objects\n",
    "driver = webdriver.Chrome(executable_path=\"./Driver/chromedriver.exe\")\n",
    "#  Open the url\n",
    "jobc = []\n",
    "for i in range(1,11):\n",
    "    driver.get('https://www.zhipin.com/c100010000/?query=C%2B%2B&page='+str(i)+'&ka=page-'+str(i)+'')\n",
    "    #  Wait for the page to load\n",
    "    driver.implicitly_wait(10)\n",
    "    #  Get data content\n",
    "    lis = driver.find_elements_by_css_selector('.job-list ul li')\n",
    "    #  Get multiple li Label plus s\n",
    "    for li in lis:\n",
    "        title = li.find_element_by_css_selector('.job-area-wrapper span').text\n",
    "        salary = li.find_element_by_css_selector('.job-limit.clearfix span').text\n",
    "        cop_name = li.find_element_by_css_selector('.name a').text\n",
    "        cop_info = li.find_element_by_css_selector('.company-text p').text\n",
    "        exprence = li.find_element_by_css_selector('.job-limit.clearfix p').text\n",
    "        tags = li.find_element_by_css_selector('.tags span').text\n",
    "        welfare = li.find_element_by_css_selector('.info-desc').text\n",
    "        jobc_info = [title,salary,cop_name, cop_info,exprence,tags,welfare]\n",
    "        jobc.append(jobc_info)\n",
    "    time.sleep(10)"
   ]
  },
  {
   "cell_type": "code",
   "execution_count": 5,
   "metadata": {},
   "outputs": [],
   "source": [
    "dfc = pd.DataFrame(jobc)\n",
    "columns = ['title' ,'salary', 'cop_name' ,'cop_info' ,'exprence', 'tags' ,'welfare', 'job_info' ] \n",
    "dfc.rename(columns=dict(enumerate(columns)),inplace=True)"
   ]
  },
  {
   "cell_type": "code",
   "execution_count": 6,
   "metadata": {},
   "outputs": [],
   "source": [
    "dfc.to_excel(\"c.xlsx\")"
   ]
  }
 ],
 "metadata": {
  "interpreter": {
   "hash": "f4b4a84ab705ee27aebc24779cf6b1d671d6f6118b5a4bed83bd5672f11f52d8"
  },
  "kernelspec": {
   "display_name": "Python 3.10.2 64-bit",
   "language": "python",
   "name": "python3"
  },
  "language_info": {
   "codemirror_mode": {
    "name": "ipython",
    "version": 3
   },
   "file_extension": ".py",
   "mimetype": "text/x-python",
   "name": "python",
   "nbconvert_exporter": "python",
   "pygments_lexer": "ipython3",
   "version": "3.10.2"
  },
  "orig_nbformat": 4
 },
 "nbformat": 4,
 "nbformat_minor": 2
}
